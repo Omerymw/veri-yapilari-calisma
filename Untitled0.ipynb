{
  "nbformat": 4,
  "nbformat_minor": 0,
  "metadata": {
    "colab": {
      "provenance": []
    },
    "kernelspec": {
      "name": "python3",
      "display_name": "Python 3"
    },
    "language_info": {
      "name": "python"
    }
  },
  "cells": [
    {
      "cell_type": "markdown",
      "source": [
        "python programlaam dşlinde print komutu ekrandan kullanıcıya bigli verem bir koddur veri yapıları algoritmalar dersi ilk kodlama çıtkısıdır.\n",
        "İGÜ İSTKA SİBER AKADEMİ MERKEZİ-19.08.2024"
      ],
      "metadata": {
        "id": "8kBodLxu6wf5"
      }
    },
    {
      "cell_type": "code",
      "source": [
        "print(\"merhaba İSTKA\") # ekrana çıktı veren bir kod\n"
      ],
      "metadata": {
        "colab": {
          "base_uri": "https://localhost:8080/"
        },
        "id": "JFxjxWGq5dBi",
        "outputId": "144fb2b4-1bf0-4647-a3d4-7b7282f494d9"
      },
      "execution_count": 13,
      "outputs": [
        {
          "output_type": "stream",
          "name": "stdout",
          "text": [
            "merhaba İSTKA\n"
          ]
        }
      ]
    },
    {
      "cell_type": "code",
      "source": [
        "import sys # import pthyon pogramlama dilinde yazılıma kütüphane eklemeye yarayan bir kod\n",
        "print(sys.version)"
      ],
      "metadata": {
        "colab": {
          "base_uri": "https://localhost:8080/"
        },
        "id": "kBrPsxCt6G1C",
        "outputId": "99d2ee7a-2173-49d8-cce1-c44bf9007723"
      },
      "execution_count": 14,
      "outputs": [
        {
          "output_type": "stream",
          "name": "stdout",
          "text": [
            "3.10.12 (main, Jul 29 2024, 16:56:48) [GCC 11.4.0]\n"
          ]
        }
      ]
    },
    {
      "cell_type": "code",
      "source": [
        "from  google.colab import drive #goole colab - drive bağlantısı\n",
        "drive.mount('/content/drive')"
      ],
      "metadata": {
        "colab": {
          "base_uri": "https://localhost:8080/"
        },
        "id": "Ezniu6hm7q3q",
        "outputId": "fa8f56be-732d-4d59-de06-ae6000fd0f8d"
      },
      "execution_count": 15,
      "outputs": [
        {
          "output_type": "stream",
          "name": "stdout",
          "text": [
            "Drive already mounted at /content/drive; to attempt to forcibly remount, call drive.mount(\"/content/drive\", force_remount=True).\n"
          ]
        }
      ]
    },
    {
      "cell_type": "code",
      "source": [
        "import os\n",
        "os.chdir('/content/drive/MyDrive/VERIYAPILARI_ISTKA')\n",
        "!pwd # bize kodun çıktısını dosya yolu olarak veren kod blogudur"
      ],
      "metadata": {
        "colab": {
          "base_uri": "https://localhost:8080/"
        },
        "id": "LRBiEZqb87Mi",
        "outputId": "cf2bf309-f013-4e1d-d4cc-a6fc8236331d"
      },
      "execution_count": 12,
      "outputs": [
        {
          "output_type": "stream",
          "name": "stdout",
          "text": [
            "/content/drive/MyDrive/VERIYAPILARI_ISTKA\n"
          ]
        }
      ]
    },
    {
      "cell_type": "markdown",
      "source": [
        "19.08.2024 ders 1 basladık bismillah"
      ],
      "metadata": {
        "id": "UzEpCTGL6d46"
      }
    }
  ]
}