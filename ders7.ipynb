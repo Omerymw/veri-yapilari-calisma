{
  "nbformat": 4,
  "nbformat_minor": 0,
  "metadata": {
    "colab": {
      "provenance": []
    },
    "kernelspec": {
      "name": "python3",
      "display_name": "Python 3"
    },
    "language_info": {
      "name": "python"
    }
  },
  "cells": [
    {
      "cell_type": "code",
      "execution_count": 4,
      "metadata": {
        "colab": {
          "base_uri": "https://localhost:8080/"
        },
        "id": "7WPzJ_WIARE4",
        "outputId": "1277dba4-85f9-4a26-e6f4-a0e46dfa8b5d"
      },
      "outputs": [
        {
          "output_type": "stream",
          "name": "stdout",
          "text": [
            "Merhaba, İGÜ - İSTKA / Ders 7\n"
          ]
        }
      ],
      "source": [
        "print(\"Merhaba, İGÜ - İSTKA / Ders 7\") # print ekrana çıktı veren bir koddur."
      ]
    },
    {
      "cell_type": "code",
      "source": [
        "\n",
        "import sys # import python programlama dilinde yazılıma kütüphane eklemeye yarayan bir kod blogudur.\n",
        "print(sys.version)"
      ],
      "metadata": {
        "colab": {
          "base_uri": "https://localhost:8080/"
        },
        "id": "sKLI_b3UAYaq",
        "outputId": "80da6195-11c4-42ce-fe83-d7b00b99998f"
      },
      "execution_count": 3,
      "outputs": [
        {
          "output_type": "stream",
          "name": "stdout",
          "text": [
            "3.10.12 (main, Jul 29 2024, 16:56:48) [GCC 11.4.0]\n"
          ]
        }
      ]
    },
    {
      "cell_type": "code",
      "source": [
        "from google.colab import drive # google colab - drive bağlantısı\n",
        "\n",
        "drive.mount('/content/drive')"
      ],
      "metadata": {
        "colab": {
          "base_uri": "https://localhost:8080/"
        },
        "id": "nOYGW0FRAabS",
        "outputId": "655228bb-a1d9-4038-e000-472be8ddc2df"
      },
      "execution_count": 2,
      "outputs": [
        {
          "output_type": "stream",
          "name": "stdout",
          "text": [
            "Mounted at /content/drive\n"
          ]
        }
      ]
    },
    {
      "cell_type": "code",
      "source": [
        "import os\n",
        "\n",
        "os.chdir('/content/drive/My Drive/VERIYAPILARI_ISTKA')\n",
        "\n",
        "!pwd # bize kodun çıktısını dosya yolu olarak veren kod blogudur."
      ],
      "metadata": {
        "colab": {
          "base_uri": "https://localhost:8080/"
        },
        "id": "8YSSkqtSAeYq",
        "outputId": "23d416f6-85e3-49ab-8cda-019186ad86f8"
      },
      "execution_count": 5,
      "outputs": [
        {
          "output_type": "stream",
          "name": "stdout",
          "text": [
            "/content/drive/My Drive/VERIYAPILARI_ISTKA\n"
          ]
        }
      ]
    },
    {
      "cell_type": "markdown",
      "source": [
        "PYTHON PROGRAMLAMA DİLİNDE DOSYA İŞLEMLERİ\n",
        "\n",
        "Python programlama dilinde dosya işlemleri; dosyaların okunması, yazılması, güncellenmesi ve kapatılması gibi işlemleri kapsamaktadır. Dosya işlemleri, genellikle dosyaların içeriğini almak, bilgi üzerinde işlem yapabilmek veya yeni dosyalar oluşturmak için kullanılır.\n",
        "\n",
        "PYTHON programlama dili üzerindeki dosya işlemleri bağlamında Yapay Zeka (YZ) çalışmaları noktasında veri setlerini ele aldık. Veri yapıları ve Algoritmalar'ın sonucu olarak yapay zeka çalışmaları ele alacağız. Doğru veri yapısı için bu bağlamda yapay zeka uygulamaları için veri setlerinin önemi:\n",
        "\n",
        "1.Modelin Doğruluğu\n",
        "\n",
        "2.Geniş Kapsamlı bir genelleme\n",
        "\n",
        "3.Performans\n",
        "\n",
        "4.Modilin başarısı için verilerin doğruluğu çok önemlidir."
      ],
      "metadata": {
        "id": "Nd7w5eEQAhra"
      }
    },
    {
      "cell_type": "code",
      "source": [
        "import pandas as pd\n",
        "\n",
        "VeriSetiYolu = '/content/drive/My Drive/VERIYAPILARI_ISTKA/VERISETI'\n",
        "\n",
        "for file in os.listdir(VeriSetiYolu):                         # Klasördeki tüm dosyaları listele\n",
        "\n",
        "      if file.endswith(('.xlsx', '.xls')):                     # Sadece Excel dosyalarını seç\n",
        "\n",
        "          df = pd.read_excel(os.path.join(VeriSetiYolu, file))  # Excel dosyasını pandas ile oku\n",
        "\n",
        "          df.to_csv(os.path.join(VeriSetiYolu, file.rsplit('.', 1)[0] + '.csv'), index=False)\n",
        "                                                                 # DataFrame'i CSV formatında kaydet\n",
        "          print(f\"{file} dosyası CSV formatına çevrildi.\")     # Çevrim İşlemi Çıktısı\n",
        "\n",
        "  # İşlem tamamlandığında kaç tane excel dosyası var ise o kadar *.csv formatına çevildiğinin\n",
        "  # bilgisini almaktayız"
      ],
      "metadata": {
        "id": "vntskYQgAv37",
        "colab": {
          "base_uri": "https://localhost:8080/"
        },
        "outputId": "675a2999-4bb9-4ddf-d7fb-9725698b3a7e"
      },
      "execution_count": null,
      "outputs": [
        {
          "output_type": "stream",
          "name": "stdout",
          "text": [
            "atktan-geri-kazanm-miktarlar (1).xlsx dosyası CSV formatına çevrildi.\n"
          ]
        }
      ]
    },
    {
      "cell_type": "code",
      "source": [
        "import os\n",
        "import pandas as pd\n",
        "\n",
        "VeriSetiYolu = '/content/drive/My Drive/VERIYAPILARI_ISTKA/VERISETI'\n",
        "\n",
        "# VeriSetiYolu içindeki .csv dosyalarını bul ve say\n",
        "csv_dosyalari = [dosya for dosya in os.listdir(VeriSetiYolu) if dosya.endswith('.csv')]\n",
        "\n",
        "# .csv dosya sayısını ekrana yazdır\n",
        "csv_dosya_sayisi = len(csv_dosyalari)\n",
        "print(f\"VeriSetiYolu içerisinde {csv_dosyalari} tane .csv dosyası bulunuyor.\")\n",
        "\n",
        "# Mevcut *.csv uzantılı dosyaların isimlerini getiriyoruz.\n",
        "print(\"Bulunan CSV Dosyaları:\")\n",
        "for dosya in csv_dosyalari:\n",
        "    print(dosya)"
      ],
      "metadata": {
        "colab": {
          "base_uri": "https://localhost:8080/"
        },
        "id": "BOgzgwo06yGF",
        "outputId": "b52fd620-ce69-4891-dfc0-cd0cf92dde5c"
      },
      "execution_count": 10,
      "outputs": [
        {
          "output_type": "stream",
          "name": "stdout",
          "text": [
            "VeriSetiYolu içerisinde ['atktan-geri-kazanm-miktarlar (1).csv', 'atık.csv'] tane .csv dosyası bulunuyor.\n",
            "Bulunan CSV Dosyaları:\n",
            "atktan-geri-kazanm-miktarlar (1).csv\n",
            "atık.csv\n"
          ]
        }
      ]
    }
  ]
}