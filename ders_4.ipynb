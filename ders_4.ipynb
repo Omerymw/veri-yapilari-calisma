{
  "nbformat": 4,
  "nbformat_minor": 0,
  "metadata": {
    "colab": {
      "provenance": []
    },
    "kernelspec": {
      "name": "python3",
      "display_name": "Python 3"
    },
    "language_info": {
      "name": "python"
    }
  },
  "cells": [
    {
      "cell_type": "code",
      "execution_count": 2,
      "metadata": {
        "id": "hzEX17wi9qIE",
        "colab": {
          "base_uri": "https://localhost:8080/"
        },
        "outputId": "18b2b63b-218c-4283-9b1e-06f96c530f1b"
      },
      "outputs": [
        {
          "output_type": "stream",
          "name": "stdout",
          "text": [
            "merhaba, İGÜ - İSTKA / Ders 4\n"
          ]
        }
      ],
      "source": [
        "print(\"merhaba, İGÜ - İSTKA / Ders 4\") #print ekrana çıktı veren bir koddur"
      ]
    },
    {
      "cell_type": "code",
      "source": [
        "import sys # import pthyon pogramlama dilinde yazılıma kütüphane eklemeye yarayan bir kod\n",
        "print(sys.version)"
      ],
      "metadata": {
        "colab": {
          "base_uri": "https://localhost:8080/"
        },
        "id": "OL8-vaWe952L",
        "outputId": "9afe77a1-722d-43ca-97ab-6ea0fc1bd96c"
      },
      "execution_count": 3,
      "outputs": [
        {
          "output_type": "stream",
          "name": "stdout",
          "text": [
            "3.10.12 (main, Jul 29 2024, 16:56:48) [GCC 11.4.0]\n"
          ]
        }
      ]
    },
    {
      "cell_type": "code",
      "source": [
        "from  google.colab import drive #goole colab - drive bağlantısı\n",
        "drive.mount('/content/drive')"
      ],
      "metadata": {
        "colab": {
          "base_uri": "https://localhost:8080/"
        },
        "id": "vBLC9lP-98jS",
        "outputId": "c4ab54a3-4af0-4913-b76b-afd77759db49"
      },
      "execution_count": 4,
      "outputs": [
        {
          "output_type": "stream",
          "name": "stdout",
          "text": [
            "Mounted at /content/drive\n"
          ]
        }
      ]
    },
    {
      "cell_type": "code",
      "source": [
        "import os\n",
        "os.chdir('/content/drive/MyDrive/VERIYAPILARI_ISTKA')\n",
        "!pwd # bize kodun çıktısını dosya yolu olarak veren kod blogudur"
      ],
      "metadata": {
        "colab": {
          "base_uri": "https://localhost:8080/"
        },
        "id": "7U3phn84-FR9",
        "outputId": "333c6681-0c21-4b9e-ed95-69e1e90c70e6"
      },
      "execution_count": 5,
      "outputs": [
        {
          "output_type": "stream",
          "name": "stdout",
          "text": [
            "/content/drive/MyDrive/VERIYAPILARI_ISTKA\n"
          ]
        }
      ]
    },
    {
      "cell_type": "markdown",
      "source": [
        "22.08.2024 ders 4\n",
        "PYTHON Döngü Yapıları\n",
        "\n",
        "Döngüler, belirli bir kod bölümünün birden fazla çalıştırmamıza olanak tanır. Döngüler, genellikle yazılımda tekrar eden işlemler için kullanılır.\n",
        "\n",
        "Döngü Türleri:\n",
        "\n",
        "1.for Döngüsü--> Belirli bir sıralama üzerinde iterasyon yapmak için kullanılır.\n",
        "\n",
        "2.Genellikle bir liste, dizi veya range fonksiyonu ile kullanılır.\n",
        "\n",
        "while Döngüsü--> Belirli bir koşul doğru olduğu sürece kod bloğunu çalıştırır.\n",
        "\n",
        "Döngü Kontrol Yapıları:\n",
        "\n",
        "1.break--> Döngüyü tamamen sonlandırır.\n",
        "\n",
        "2.continue--> Döngünün o anki tekrarı-iterasyonunu sonlandırır ve bir sonraki tekrara-iterasyona geçer.\n",
        "\n",
        "Döngü İçinde Döngü (İç İçe Döngüler):\n",
        "\n",
        "1.İç İçe for Döngüsü\n",
        "\n",
        "2.İç İçe while Döngüsü"
      ],
      "metadata": {
        "id": "2YGwIJHu-U3P"
      }
    },
    {
      "cell_type": "code",
      "source": [
        "# for döngüsü örneği: 0' dan 4'e kadar olan sayıları yazdırılması işlemidir\n",
        "\n",
        "for i in range(5):\n",
        "  print(i)"
      ],
      "metadata": {
        "colab": {
          "base_uri": "https://localhost:8080/"
        },
        "id": "GmCSpFL0AoFO",
        "outputId": "123f6c46-d914-448d-b5f7-9dca284c05b8"
      },
      "execution_count": 14,
      "outputs": [
        {
          "output_type": "stream",
          "name": "stdout",
          "text": [
            "0\n",
            "1\n",
            "2\n",
            "3\n",
            "4\n"
          ]
        }
      ]
    },
    {
      "cell_type": "code",
      "source": [
        "#for döngüsü örnepi: alışveriş listesi oluşturma\n",
        "liste = [\"elma\",\"ekmek\",\"süt\",\"peynir\"]\n",
        "\n",
        "for alinacaklar in liste:\n",
        "  print(alinacaklar)"
      ],
      "metadata": {
        "colab": {
          "base_uri": "https://localhost:8080/"
        },
        "id": "2-GozbkgBEz7",
        "outputId": "9226898b-06ba-41c3-dc64-981e8cec55cd"
      },
      "execution_count": 17,
      "outputs": [
        {
          "output_type": "stream",
          "name": "stdout",
          "text": [
            "elma\n",
            "ekmek\n",
            "süt\n",
            "peynir\n"
          ]
        }
      ]
    },
    {
      "cell_type": "code",
      "source": [
        "# for döngüsü örneği: bir sınıftaki öğrencilerin notlarının ortalamasını hesaplama\n",
        "notlar = [85, 92, 78, 90, 88]\n",
        "\n",
        "toplam = 0\n",
        "for sayi in notlar:\n",
        "    toplam += sayi     # toplam = toplam + sayi\n",
        "\n",
        "ortalama = toplam / 5\n",
        "\n",
        "print(\"Birinci Print -> Not Ortalaması: \", ortalama)\n",
        "\n",
        "print(f\"İkinci Print -> Not ortalaması : {ortalama}\")"
      ],
      "metadata": {
        "colab": {
          "base_uri": "https://localhost:8080/"
        },
        "id": "_e5eht5WCh_3",
        "outputId": "59cede10-c7df-4d8b-aff4-d19d6ea62c93"
      },
      "execution_count": 22,
      "outputs": [
        {
          "output_type": "stream",
          "name": "stdout",
          "text": [
            "Birinci Print -> Not Ortalaması:  86.6\n",
            "İkinci Print -> Not ortalaması : 86.6\n"
          ]
        }
      ]
    },
    {
      "cell_type": "code",
      "source": [
        "# while döngüsü örnepği: 0' dan 4' e kadar olan sayıları yazdırılması işlemidir.\n",
        "i=0\n",
        "while i < 5:\n",
        "  print(i)\n",
        "  i += 1"
      ],
      "metadata": {
        "colab": {
          "base_uri": "https://localhost:8080/"
        },
        "id": "urJUGoI9Dh6O",
        "outputId": "56f5d92c-8601-4800-95f3-5be249aa0de1"
      },
      "execution_count": 23,
      "outputs": [
        {
          "output_type": "stream",
          "name": "stdout",
          "text": [
            "0\n",
            "1\n",
            "2\n",
            "3\n",
            "4\n"
          ]
        }
      ]
    },
    {
      "cell_type": "code",
      "source": [
        "# Kullanıcıdan bir sayı alınması\n",
        "kullanici_girdisi = int(input(\"Bir sayı girin: \"))\n",
        "\n",
        "# 0'dan kullanıcı tarafından girilen sayıya kadar sıralama yapma\n",
        "i = 0\n",
        "while i <= kullanici_girdisi:\n",
        "    print(i)\n",
        "    i += 1"
      ],
      "metadata": {
        "colab": {
          "base_uri": "https://localhost:8080/"
        },
        "id": "vA_4f-ztNzgr",
        "outputId": "9a680821-df7e-4963-e943-5cfd8ffd6c6b"
      },
      "execution_count": 24,
      "outputs": [
        {
          "output_type": "stream",
          "name": "stdout",
          "text": [
            "Bir sayı girin: 10\n",
            "0\n",
            "1\n",
            "2\n",
            "3\n",
            "4\n",
            "5\n",
            "6\n",
            "7\n",
            "8\n",
            "9\n",
            "10\n"
          ]
        }
      ]
    },
    {
      "cell_type": "code",
      "source": [
        "# break örneği: 3'e ulaştığında döngü sonlandıran kod blogudur.\n",
        "for i in range(5):\n",
        "    if i == 3:\n",
        "        break\n",
        "    print(i)"
      ],
      "metadata": {
        "colab": {
          "base_uri": "https://localhost:8080/"
        },
        "id": "oQuyRH41PE22",
        "outputId": "aed72908-165b-4592-819e-f047cea591cc"
      },
      "execution_count": 25,
      "outputs": [
        {
          "output_type": "stream",
          "name": "stdout",
          "text": [
            "0\n",
            "1\n",
            "2\n"
          ]
        }
      ]
    },
    {
      "cell_type": "code",
      "source": [
        "# continue örneği : 3'e ulaştığında o tekrr işlemini es geçen kod blogudur.\n",
        "for i in range(5):\n",
        "    if i == 3:\n",
        "        continue\n",
        "    print(i)"
      ],
      "metadata": {
        "colab": {
          "base_uri": "https://localhost:8080/"
        },
        "id": "oJ1vldD0QArM",
        "outputId": "70bf4065-9369-4d57-d995-fc28702a65d6"
      },
      "execution_count": 26,
      "outputs": [
        {
          "output_type": "stream",
          "name": "stdout",
          "text": [
            "0\n",
            "1\n",
            "2\n",
            "4\n"
          ]
        }
      ]
    },
    {
      "cell_type": "code",
      "source": [
        "# iç içe for döngüsü örneği :2 boyutlu bir matrisin elemanları üzerinde işlemler\n",
        "matris =[\n",
        "    [1,2,3],\n",
        "    [4,5,6],\n",
        "    [7,8,9],\n",
        "]\n",
        "\n",
        "for x in matris:\n",
        "  for y in x:\n",
        "    print(y)\n"
      ],
      "metadata": {
        "colab": {
          "base_uri": "https://localhost:8080/"
        },
        "id": "L3JTTkGZQXA3",
        "outputId": "ab96e846-8ce6-4ec3-bb55-e42ca192bfae"
      },
      "execution_count": 31,
      "outputs": [
        {
          "output_type": "stream",
          "name": "stdout",
          "text": [
            "1\n",
            "2\n",
            "3\n",
            "4\n",
            "5\n",
            "6\n",
            "7\n",
            "8\n",
            "9\n"
          ]
        }
      ]
    },
    {
      "cell_type": "code",
      "source": [
        "# kullanıcıdan  bilgi alınması\n",
        "while True:\n",
        "  try:\n",
        "      gelen_bilgi = int(input(\"Bir sayı girin: \"))\n",
        "      break\n",
        "  except ValueError:\n",
        "      print(\"Geçersiz giriş. Lütfen bir sayı girin.\")\n",
        "\n",
        "# 0 dan kullanıcı tarafından girilen sayıya kadar sıralama yapma\n",
        "i=0\n",
        "while i <= gelen_bilgi:\n",
        "  print(i)\n",
        "  i += 1"
      ],
      "metadata": {
        "colab": {
          "base_uri": "https://localhost:8080/"
        },
        "id": "J7cRX56ySHg2",
        "outputId": "a03475f6-00f3-4696-a411-cfff1017cf94"
      },
      "execution_count": 33,
      "outputs": [
        {
          "output_type": "stream",
          "name": "stdout",
          "text": [
            "Bir sayı girin: 2\n",
            "0\n",
            "1\n",
            "2\n"
          ]
        }
      ]
    },
    {
      "cell_type": "code",
      "source": [
        "#WHİLE DÖNGÜSÜ ÖRNEĞİ : KULLANICI BAKİYE bilgisinin sorgulaması\n",
        "toplam_ucret = 1000\n",
        "while toplam_ucret > 0:\n",
        "    try:\n",
        "        celilen_tuttar = int(input(\"Çekmek istediğiniz tutarı girin: \"))\n",
        "        if celilen_tuttar > toplam_ucret:\n",
        "             print(\"yetersiz bakiye!\")\n",
        "             bilgi = input(\"işleme devam etmek istiyor musunuz? (e/h): \").lower()\n",
        "             if bilgi == \"h\":\n",
        "              print(\"işlem sonlandırıldı\")\n",
        "              break\n",
        "        else:\n",
        "            toplam_ucret -= celilen_tuttar\n",
        "            print(f\"Kalan bakiyeniz: {toplam_ucret}\")\n",
        "        if toplam_ucret == 0:\n",
        "            print(\"bakiye tükendi.\")\n",
        "            break\n",
        "    except ValueError:\n",
        "        print(\"Geçersiz giriş. Lütfen bir sayı girin.\")"
      ],
      "metadata": {
        "colab": {
          "base_uri": "https://localhost:8080/"
        },
        "id": "L6mkqjaHS889",
        "outputId": "84b3ba99-56f4-4539-a19f-43e2680aaa5e"
      },
      "execution_count": 45,
      "outputs": [
        {
          "output_type": "stream",
          "name": "stdout",
          "text": [
            "Çekmek istediğiniz tutarı girin: 1000\n",
            "Kalan bakiyeniz: 0\n",
            "bakiye tükendi.\n"
          ]
        }
      ]
    }
  ]
}